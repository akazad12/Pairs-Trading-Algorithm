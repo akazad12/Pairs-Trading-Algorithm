{
 "cells": [
  {
   "cell_type": "code",
   "execution_count": 2,
   "metadata": {},
   "outputs": [
    {
     "ename": "ModuleNotFoundError",
     "evalue": "No module named 'yfinance'",
     "output_type": "error",
     "traceback": [
      "\u001b[0;31m---------------------------------------------------------------------------\u001b[0m",
      "\u001b[0;31mModuleNotFoundError\u001b[0m                       Traceback (most recent call last)",
      "\u001b[0;32m<ipython-input-2-fe83a1b83d6e>\u001b[0m in \u001b[0;36m<module>\u001b[0;34m\u001b[0m\n\u001b[1;32m      4\u001b[0m \u001b[0;32mimport\u001b[0m \u001b[0mdatetime\u001b[0m\u001b[0;34m\u001b[0m\u001b[0;34m\u001b[0m\u001b[0m\n\u001b[1;32m      5\u001b[0m \u001b[0;32mimport\u001b[0m \u001b[0mseaborn\u001b[0m \u001b[0;32mas\u001b[0m \u001b[0msns\u001b[0m\u001b[0;34m\u001b[0m\u001b[0;34m\u001b[0m\u001b[0m\n\u001b[0;32m----> 6\u001b[0;31m \u001b[0;32mimport\u001b[0m \u001b[0myfinance\u001b[0m \u001b[0;32mas\u001b[0m \u001b[0myf\u001b[0m\u001b[0;34m\u001b[0m\u001b[0;34m\u001b[0m\u001b[0m\n\u001b[0m\u001b[1;32m      7\u001b[0m \u001b[0;34m\u001b[0m\u001b[0m\n\u001b[1;32m      8\u001b[0m \u001b[0;32mfrom\u001b[0m \u001b[0mpypfopt\u001b[0m\u001b[0;34m.\u001b[0m\u001b[0mefficient_frontier\u001b[0m \u001b[0;32mimport\u001b[0m \u001b[0mEfficientFrontier\u001b[0m\u001b[0;34m\u001b[0m\u001b[0;34m\u001b[0m\u001b[0m\n",
      "\u001b[0;31mModuleNotFoundError\u001b[0m: No module named 'yfinance'"
     ]
    }
   ],
   "source": [
    "import pandas as pd\n",
    "import numpy as np\n",
    "import matplotlib.pyplot as plt\n",
    "import datetime\n",
    "import seaborn as sns\n",
    "import yfinance as yf\n",
    "\n",
    "from pypfopt.efficient_frontier import EfficientFrontier\n",
    "from pypfopt import risk_models\n",
    "from pypfopt import expected_returns"
   ]
  },
  {
   "cell_type": "code",
   "execution_count": 15,
   "metadata": {},
   "outputs": [
    {
     "name": "stdin",
     "output_type": "stream",
     "text": [
      "Please enter the ticker for the equity you wish to find a pair for:  acls\n"
     ]
    },
    {
     "name": "stdout",
     "output_type": "stream",
     "text": [
      "\n",
      "You entered ACLS.\n"
     ]
    }
   ],
   "source": [
    "ticker = str(input('Please enter the ticker for the equity you wish to find a pair for: ')).upper()\n",
    "\n",
    "print('\\nYou entered {}.'.format(ticker))"
   ]
  },
  {
   "cell_type": "markdown",
   "metadata": {},
   "source": [
    "# Check to see if ticker is part of SP500, if not, add to the list of data to pull"
   ]
  },
  {
   "cell_type": "code",
   "execution_count": 5,
   "metadata": {},
   "outputs": [],
   "source": [
    "# Read in all SP500 entities\n",
    "sp500=pd.read_csv('spy_holdings.csv').dropna()\n",
    "\n",
    "# Build list of available sectors\n",
    "sector_list = pd.DataFrame(sp500['sector'].unique())\n",
    "sector_list = sector_list.rename(columns={0:'Sector'})"
   ]
  },
  {
   "cell_type": "code",
   "execution_count": 16,
   "metadata": {
    "collapsed": true,
    "jupyter": {
     "outputs_hidden": true
    }
   },
   "outputs": [
    {
     "name": "stdout",
     "output_type": "stream",
     "text": [
      "\n",
      "    Your stock is not listed in the S&P 500.\n",
      "    Please select a sector by number from the list below:\n",
      "           \n",
      "                    Sector\n",
      "0   Information Technology\n",
      "1   Consumer Discretionary\n",
      "2   Communication Services\n",
      "3               Financials\n",
      "4              Health Care\n",
      "5                   Energy\n",
      "6         Consumer Staples\n",
      "7              Industrials\n",
      "8                Utilities\n",
      "9                Materials\n",
      "10             Real Estate\n",
      "11              Unassigned \n",
      "\n",
      "User Input: \n"
     ]
    },
    {
     "name": "stdin",
     "output_type": "stream",
     "text": [
      " 7\n"
     ]
    },
    {
     "name": "stdout",
     "output_type": "stream",
     "text": [
      "You have selected Industrials sector.\n",
      "Finding best pair for ACLS in Industrials sector.\n"
     ]
    }
   ],
   "source": [
    "# Check if stock is in S&P 500 and retrieve sector information\n",
    "appropos = 0\n",
    "tick_match = sp500.identifier.eq(ticker).map(int)\n",
    "if tick_match.sum() > 0:\n",
    "    print('Your equity is in the S&P500')\n",
    "    appropos = 1\n",
    "    tick_cont = 1\n",
    "    # Isolate security of interest\n",
    "    tick_data = sp500[sp500['identifier'].str.contains(ticker)]\n",
    "\n",
    "    # Identify sector in S&P 500 listing\n",
    "    in_sector = str(tick_data['sector'].iloc[0])\n",
    "       \n",
    "# If stock is not in S&P500, Retrieve User Sector Selection\n",
    "while appropos == 0:\n",
    "    print(\"\"\"\n",
    "    Your stock is not listed in the S&P 500.\n",
    "    Please select a sector by number from the list below:\n",
    "           \"\"\")\n",
    "    print(sector_list,'\\n\\nUser Input: ')\n",
    "    assign_sector = int(input(\"\"))\n",
    "        \n",
    "    # Check that the input was appropriate\n",
    "    if assign_sector >= 0 and assign_sector < 12:\n",
    "        appropos = 1\n",
    "        in_sector = sector_list['Sector'].iloc[assign_sector]\n",
    "    else:\n",
    "        print(\"\"\"That was not an appropriate selection. Plese try again: \n",
    "                          \"\"\"\n",
    "                         )\n",
    "# Output    \n",
    "    print('You have selected {} sector.'.format(in_sector))\n",
    "\n",
    "print('Finding best pair for {} in {} sector.'.format(ticker,in_sector))               "
   ]
  },
  {
   "cell_type": "code",
   "execution_count": 19,
   "metadata": {},
   "outputs": [],
   "source": [
    "# Select all securities in the S&P500 from the appropriate sector\n",
    "sectorized = sp500[sp500['sector'].str.contains(in_sector)]\n",
    "\n",
    "# Create list of sector tickers\n",
    "sector_tickers = list(sectorized['identifier'])\n",
    "if tick_match.sum() > 0:\n",
    "    pass\n",
    "else:\n",
    "    sector_tickers.append(ticker)"
   ]
  },
  {
   "cell_type": "code",
   "execution_count": null,
   "metadata": {},
   "outputs": [],
   "source": [
    "# Download data from yahoo\n",
    "tick_data = yf.download(sector_tickers,\n",
    "                        period = \"1y\",\n",
    "                        interval = '1m',\n",
    "                        parse_dates=['Date']\n",
    "                       )['Adj Close']"
   ]
  },
  {
   "cell_type": "code",
   "execution_count": null,
   "metadata": {},
   "outputs": [],
   "source": [
    "# Compute rolling 30 day returns, return correlation, return covariance\n",
    "daily_returns = np.log(tick_data.rolling(22).mean() / tick_data.shift(1))*100\n",
    "corr_daily = daily_returns.corr()\n",
    "cov_daily = tick_data.cov()\n",
    "\n",
    "# Select highest covariance and correlation\n",
    "max_corr = corr_daily[ticker].nlargest(15)\n",
    "cov = cov_daily.unstack().sort_values(ascending=False)\n",
    "max_cov = cov[ticker].nlargest(15)\n",
    "\n",
    "# Merge into a new DF\n",
    "rel_matrix = pd.DataFrame(max_cov)\n",
    "rel_matrix = rel_matrix.rename(columns={0:'cov'})\n",
    "rel_matrix['corr'] = max_corr"
   ]
  },
  {
   "cell_type": "markdown",
   "metadata": {},
   "source": [
    "# Plot correlation matrix for returns post FB IPO\n",
    "top_corr_features = corr_daily.index\n",
    "plt.figure(figsize = (30,30))\n",
    "\n",
    "sns.heatmap(corr_daily[top_corr_features].corr(), \n",
    "            annot = True, \n",
    "            cmap = 'RdYlGn', \n",
    "            vmin = -1, \n",
    "            vmax = 1\n",
    "           )"
   ]
  },
  {
   "cell_type": "markdown",
   "metadata": {},
   "source": [
    "plt.figure(figsize = (30,30))\n",
    "sns.heatmap(tick_data.cov(),\n",
    "           annot = True,\n",
    "           cmap = 'RdYlGn'\n",
    "           )"
   ]
  },
  {
   "cell_type": "code",
   "execution_count": null,
   "metadata": {},
   "outputs": [],
   "source": []
  },
  {
   "cell_type": "code",
   "execution_count": null,
   "metadata": {},
   "outputs": [],
   "source": []
  },
  {
   "cell_type": "code",
   "execution_count": null,
   "metadata": {},
   "outputs": [],
   "source": []
  },
  {
   "cell_type": "code",
   "execution_count": null,
   "metadata": {},
   "outputs": [],
   "source": []
  },
  {
   "cell_type": "markdown",
   "metadata": {},
   "source": [
    "# Compute Equal Weighted Portfolio\n",
    "\n",
    "# calculate mu and S\n",
    "mu = expected_returns.mean_historical_return(tick_data)\n",
    "s = risk_models.sample_cov(tick_data)\n",
    "\n",
    "# calculate efficient frontier\n",
    "ef = EfficientFrontier(mu, s)\n",
    "raw_weights = ef.max_sharpe()\n",
    "cleaned_weights = ef.clean_weights()\n",
    "print(cleaned_weights)\n",
    "ef.portfolio_performance(verbose=True)"
   ]
  },
  {
   "cell_type": "markdown",
   "metadata": {},
   "source": [
    "from pypfopt.discrete_allocation import DiscreteAllocation, get_latest_prices\n",
    "latest_prices = get_latest_prices(eqw['Adj Close'])\n",
    "\n",
    "da = DiscreteAllocation(cleaned_weights, latest_prices, total_portfolio_value=1000000)\n",
    "allocation, leftover = da.lp_portfolio()\n",
    "print(\"Discrete allocation:\", allocation)\n",
    "print(\"Funds remaining: ${:.2f}\".format(leftover))"
   ]
  }
 ],
 "metadata": {
  "kernelspec": {
   "display_name": "Python 3",
   "language": "python",
   "name": "python3"
  },
  "language_info": {
   "codemirror_mode": {
    "name": "ipython",
    "version": 3
   },
   "file_extension": ".py",
   "mimetype": "text/x-python",
   "name": "python",
   "nbconvert_exporter": "python",
   "pygments_lexer": "ipython3",
   "version": "3.8.8"
  }
 },
 "nbformat": 4,
 "nbformat_minor": 4
}
